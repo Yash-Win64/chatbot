{
  "cells": [
    {
      "cell_type": "code",
      "execution_count": null,
      "metadata": {
        "id": "buEvN8H8bxbw"
      },
      "outputs": [],
      "source": [
        "# Create BankBot Class:\n",
        "class BankBot:\n",
        "    def __init__(self):\n",
        "        self.balance = 1000  # Initial account balance\n",
        "\n",
        "    def check_balance(self):\n",
        "        return f\"Your account balance is ${self.balance}\"\n",
        "\n",
        "    def deposit(self, amount):\n",
        "        if amount > 0:\n",
        "            self.balance += amount\n",
        "            return f\"Deposited ${amount}. Your new balance is ${self.balance}\"\n",
        "        else:\n",
        "            return \"Invalid amount for deposit.\"\n",
        "\n",
        "    def withdraw(self, amount):\n",
        "        if amount > 0 and amount <= self.balance:\n",
        "            self.balance -= amount\n",
        "            return f\"Withdrew ${amount}. Your new balance is ${self.balance}\"\n",
        "        elif amount <= 0:\n",
        "            return \"Invalid amount for withdrawal.\"\n",
        "        else:\n",
        "            return \"Insufficient funds for withdrawal.\""
      ]
    },
    {
      "cell_type": "code",
      "execution_count": null,
      "metadata": {
        "id": "vT20qtg4dswG"
      },
      "outputs": [],
      "source": [
        "# Create an instance of the BankBot:\n",
        "bank_bot = BankBot()"
      ]
    },
    {
      "cell_type": "code",
      "execution_count": null,
      "metadata": {
        "colab": {
          "base_uri": "https://localhost:8080/"
        },
        "id": "MbvMpcb7dyls",
        "outputId": "37081782-2605-40bf-907f-08ea4a4efaa7"
      },
      "outputs": [
        {
          "output_type": "stream",
          "name": "stdout",
          "text": [
            "BankBot: Welcome to the BankBot! How can I assist you today?\n",
            "\n",
            "Options:\n",
            "1. Check Balance\n",
            "2. Deposit Funds\n",
            "3. Withdraw Funds\n",
            "4. Quit\n",
            "Enter the number of your choice: 1\n",
            "BankBot: Your account balance is $1000\n",
            "\n",
            "Options:\n",
            "1. Check Balance\n",
            "2. Deposit Funds\n",
            "3. Withdraw Funds\n",
            "4. Quit\n",
            "Enter the number of your choice: 2\n",
            "Enter the deposit amount: $12000\n",
            "BankBot: Deposited $12000.0. Your new balance is $13000.0\n",
            "\n",
            "Options:\n",
            "1. Check Balance\n",
            "2. Deposit Funds\n",
            "3. Withdraw Funds\n",
            "4. Quit\n",
            "Enter the number of your choice: 13943421\n",
            "BankBot: Invalid choice. Please select a valid option.\n",
            "\n",
            "Options:\n",
            "1. Check Balance\n",
            "2. Deposit Funds\n",
            "3. Withdraw Funds\n",
            "4. Quit\n",
            "Enter the number of your choice: 3\n",
            "Enter the withdrawal amount: $12321312\n",
            "BankBot: Insufficient funds for withdrawal.\n",
            "\n",
            "Options:\n",
            "1. Check Balance\n",
            "2. Deposit Funds\n",
            "3. Withdraw Funds\n",
            "4. Quit\n",
            "Enter the number of your choice: 3\n",
            "Enter the withdrawal amount: $134\n",
            "BankBot: Withdrew $134.0. Your new balance is $12866.0\n",
            "\n",
            "Options:\n",
            "1. Check Balance\n",
            "2. Deposit Funds\n",
            "3. Withdraw Funds\n",
            "4. Quit\n",
            "Enter the number of your choice: 4\n",
            "BankBot: Thank you for using BankBot. Goodbye!\n"
          ]
        }
      ],
      "source": [
        "# Main conversation loop:\n",
        "print(\"BankBot: Welcome to the BankBot! How can I assist you today?\")\n",
        "\n",
        "while True:\n",
        "    print(\"\\nOptions:\")\n",
        "    print(\"1. Check Balance\")\n",
        "    print(\"2. Deposit Funds\")\n",
        "    print(\"3. Withdraw Funds\")\n",
        "    print(\"4. Quit\")\n",
        "\n",
        "    choice = input(\"Enter the number of your choice: \")\n",
        "\n",
        "    if choice == \"1\":\n",
        "        print(\"BankBot:\", bank_bot.check_balance())\n",
        "    elif choice == \"2\":\n",
        "        try:\n",
        "            amount = float(input(\"Enter the deposit amount: $\"))\n",
        "            print(\"BankBot:\", bank_bot.deposit(amount))\n",
        "        except ValueError:\n",
        "            print(\"BankBot: Please specify a valid deposit amount.\")\n",
        "    elif choice == \"3\":\n",
        "        try:\n",
        "            amount = float(input(\"Enter the withdrawal amount: $\"))\n",
        "            print(\"BankBot:\", bank_bot.withdraw(amount))\n",
        "        except ValueError:\n",
        "            print(\"BankBot: Please specify a valid withdrawal amount.\")\n",
        "    elif choice == \"4\":\n",
        "        print(\"BankBot: Thank you for using BankBot. Goodbye!\")\n",
        "        break\n",
        "    else:\n",
        "        print(\"BankBot: Invalid choice. Please select a valid option.\")"
      ]
    }
  ],
  "metadata": {
    "colab": {
      "provenance": []
    },
    "kernelspec": {
      "display_name": "Python 3",
      "name": "python3"
    },
    "language_info": {
      "name": "python"
    }
  },
  "nbformat": 4,
  "nbformat_minor": 0
}